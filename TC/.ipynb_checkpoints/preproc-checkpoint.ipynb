{
 "cells": [
  {
   "cell_type": "markdown",
   "metadata": {},
   "source": [
    "# Preprocess data for FNO"
   ]
  },
  {
   "cell_type": "markdown",
   "metadata": {},
   "source": [
    "## Import Packages and Data"
   ]
  },
  {
   "cell_type": "code",
   "execution_count": 1,
   "metadata": {},
   "outputs": [],
   "source": [
    "import torch.nn.functional as F\n",
    "import torch\n",
    "import matplotlib.pyplot as plt\n",
    "from timeit import default_timer\n",
    "import numpy as np\n",
    "import xarray as xr\n",
    "import glob,os,gc\n",
    "from tqdm import tqdm\n",
    "from util.ml import read_and_write, fourierVED, test"
   ]
  },
  {
   "cell_type": "markdown",
   "metadata": {},
   "source": [
    "### Haiyan 10 Members"
   ]
  },
  {
   "cell_type": "code",
   "execution_count": 2,
   "metadata": {},
   "outputs": [
    {
     "name": "stderr",
     "output_type": "stream",
     "text": [
      "100%|████████████████████████████████████████████████████████████████████████████████████████████████████████████████████████████████████| 10/10 [00:05<00:00,  1.80it/s]\n"
     ]
    }
   ],
   "source": [
    "# Select member number\n",
    "memb = np.arange(1,11)\n",
    "# Save data in dictionary\n",
    "RTHRATLW = {}\n",
    "for membz in tqdm(memb):\n",
    "    # Find filenames and fix order\n",
    "    if membz<10:\n",
    "        haiyan10_filename = sorted(glob.glob(f'/work/FAC/FGSE/IDYST/tbeucler/default/freddy0218/2024_TCG_VED_WRFsen/storage/memb0{membz}/proc/cutcart_rthratlw.pkl'))[0]\n",
    "    else:\n",
    "        haiyan10_filename = sorted(glob.glob(f'/work/FAC/FGSE/IDYST/tbeucler/default/freddy0218/2024_TCG_VED_WRFsen/storage/memb{membz}/proc/cutcart_rthratlw.pkl'))[0]\n",
    "    \n",
    "    RTHRATLW[membz] = read_and_write.depickle(haiyan10_filename)"
   ]
  },
  {
   "cell_type": "markdown",
   "metadata": {},
   "source": [
    "### ML"
   ]
  },
  {
   "cell_type": "code",
   "execution_count": 26,
   "metadata": {},
   "outputs": [
    {
     "data": {
      "text/plain": [
       "<module 'util.ml.test' from '/work/FAC/FGSE/IDYST/tbeucler/default/freddy0218/2024_neuralop/TC/util/ml/test.py'>"
      ]
     },
     "execution_count": 26,
     "metadata": {},
     "output_type": "execute_result"
    }
   ],
   "source": [
    "import importlib\n",
    "importlib.reload(fourierVED)\n",
    "importlib.reload(test)"
   ]
  },
  {
   "cell_type": "code",
   "execution_count": 27,
   "metadata": {},
   "outputs": [
    {
     "name": "stdout",
     "output_type": "stream",
     "text": [
      "Synthetic Data Shape: torch.Size([3, 1, 32, 32, 32])\n"
     ]
    }
   ],
   "source": [
    "# Generate synthetic data with different wavenumbers\n",
    "wavenumber_0 = test.generate_3d_volume(wavenumber=0)  # Constant pattern\n",
    "wavenumber_1 = test.generate_3d_volume(wavenumber=1)  # Low-frequency pattern\n",
    "wavenumber_2 = test.generate_3d_volume(wavenumber=2)  # Medium-frequency pattern\n",
    "\n",
    "# Stack into a batch for testing\n",
    "synthetic_data = torch.stack([wavenumber_0, wavenumber_1, wavenumber_2]).unsqueeze(1)  # Shape: (batch_size, 1, D, H, W)\n",
    "print(\"Synthetic Data Shape:\", synthetic_data.shape)"
   ]
  },
  {
   "cell_type": "code",
   "execution_count": 28,
   "metadata": {
    "scrolled": true
   },
   "outputs": [
    {
     "name": "stdout",
     "output_type": "stream",
     "text": [
      "Wavenumber Contributions:\n",
      "tensor([[[1.0000e+00, 0.0000e+00, 0.0000e+00, 0.0000e+00, 0.0000e+00,\n",
      "          0.0000e+00]],\n",
      "\n",
      "        [[2.5000e+00, 1.4110e-06, 0.0000e+00, 0.0000e+00, 0.0000e+00,\n",
      "          0.0000e+00]],\n",
      "\n",
      "        [[2.5000e+00, 7.7192e-07, 0.0000e+00, 0.0000e+00, 0.0000e+00,\n",
      "          0.0000e+00]]])\n"
     ]
    }
   ],
   "source": [
    "# Initialize FourierLayer\n",
    "fourier_layer = fourierVED.FourierLayer(max_wavenumber=5)\n",
    "\n",
    "# Pass synthetic data through the FourierLayer\n",
    "with torch.no_grad():\n",
    "    wavenumber_contributions = fourier_layer(synthetic_data)\n",
    "\n",
    "print(\"Wavenumber Contributions:\")\n",
    "print(wavenumber_contributions)"
   ]
  },
  {
   "cell_type": "code",
   "execution_count": 32,
   "metadata": {},
   "outputs": [
    {
     "name": "stdout",
     "output_type": "stream",
     "text": [
      "Fourier-transformed Magnitude (Volume 1, Slice):\n",
      "tensor([[4.4848e-20, 5.0000e-01, 4.4848e-20,  ..., 2.8198e-09, 4.4848e-20,\n",
      "         5.0000e-01],\n",
      "        [5.0000e-01, 0.0000e+00, 1.7371e-09,  ..., 0.0000e+00, 1.7371e-09,\n",
      "         0.0000e+00],\n",
      "        [4.4848e-20, 1.4949e-20, 4.4848e-20,  ..., 9.6721e-10, 4.4848e-20,\n",
      "         1.0726e-08],\n",
      "        ...,\n",
      "        [1.1176e-08, 0.0000e+00, 2.4627e-09,  ..., 0.0000e+00, 2.4627e-09,\n",
      "         0.0000e+00],\n",
      "        [4.4848e-20, 1.4949e-20, 4.4848e-20,  ..., 9.6721e-10, 4.4848e-20,\n",
      "         1.0726e-08],\n",
      "        [5.0000e-01, 0.0000e+00, 1.7371e-09,  ..., 0.0000e+00, 1.7371e-09,\n",
      "         0.0000e+00]])\n"
     ]
    }
   ],
   "source": [
    "# Perform Fourier transform and inspect the output\n",
    "x_fft = torch.fft.rfftn(synthetic_data, dim=(-3, -2, -1), norm=\"forward\")\n",
    "x_fft_mag = torch.abs(x_fft)  # Magnitude of the Fourier coefficients\n",
    "\n",
    "# Print a slice of the Fourier-transformed data for visual inspection\n",
    "print(\"Fourier-transformed Magnitude (Volume 1, Slice):\")\n",
    "print(x_fft_mag[1, 0, :, :, 0])  # Print one slice for volume 1\n"
   ]
  },
  {
   "cell_type": "code",
   "execution_count": 44,
   "metadata": {},
   "outputs": [
    {
     "name": "stdout",
     "output_type": "stream",
     "text": [
      "Wavenumber 0 Mask Sum: 8935.0\n"
     ]
    }
   ],
   "source": [
    "# Generate and inspect masks for each wavenumber\n",
    "D, H, W_half = synthetic_data.shape[-3], synthetic_data.shape[-2], synthetic_data.shape[-1] // 2 + 1\n",
    "for k in range(1):\n",
    "    mask = fourier_layer._wavenumber_mask((D, H, W_half), k)\n",
    "    print(f\"Wavenumber {k} Mask Sum: {mask.sum().item()}\")  # Total number of elements in the mask"
   ]
  },
  {
   "cell_type": "code",
   "execution_count": 123,
   "metadata": {},
   "outputs": [],
   "source": [
    "import numpy as np\n",
    "\n",
    "def remove_wavenumber_signal(image, target_k, tolerance=0.1):\n",
    "    \"\"\"\n",
    "    Removes the signal corresponding to a specific wavenumber from a 2D image.\n",
    "    \n",
    "    Args:\n",
    "        image (numpy.ndarray): 2D array representing the image.\n",
    "        target_k (float): The target wavenumber to remove.\n",
    "        tolerance (float): Tolerance for matching the target wavenumber.\n",
    "        \n",
    "    Returns:\n",
    "        numpy.ndarray: The filtered image with the target wavenumber removed.\n",
    "    \"\"\"\n",
    "    # Compute the 2D FFT\n",
    "    fft_result = np.fft.fft2(image)\n",
    "    fft_shifted = np.fft.fftshift(fft_result)\n",
    "\n",
    "    # Compute the wavenumber grid\n",
    "    rows, cols = image.shape\n",
    "    kx = 2 * np.pi * np.fft.fftshift(np.fft.fftfreq(Nx, ))\n",
    "    ky = np.fft.fftfreq(rows) * rows\n",
    "    kx, ky = np.meshgrid(kx, ky)\n",
    "    k_magnitude = np.sqrt(kx**2 + ky**2)\n",
    "\n",
    "    # Remove the target wavenumber signal\n",
    "    #fft_shifted[(k_magnitude >= target_k - tolerance) & (k_magnitude <= target_k + tolerance)] = 0\n",
    "    # Inverse FFT to reconstruct the filtered image\n",
    "    fft_filtered = np.fft.ifftshift(fft_shifted)\n",
    "    filtered_image = np.fft.ifft2(fft_filtered).real\n",
    "\n",
    "    return filtered_image\n",
    "\n"
   ]
  },
  {
   "cell_type": "code",
   "execution_count": 127,
   "metadata": {},
   "outputs": [
    {
     "name": "stdout",
     "output_type": "stream",
     "text": [
      "[[56.86890161 56.42636245 55.98737677 ... 55.5520288  55.98737677\n",
      "  56.42636245]\n",
      " [56.42636245 55.98032502 55.53781385 ... 55.09891391 55.53781385\n",
      "  55.98032502]\n",
      " [55.98737677 55.53781385 55.09174843 ... 54.64926616 55.09174843\n",
      "  55.53781385]\n",
      " ...\n",
      " [55.5520288  55.09891391 54.64926616 ... 54.20317185 54.64926616\n",
      "  55.09891391]\n",
      " [55.98737677 55.53781385 55.09174843 ... 54.64926616 55.09174843\n",
      "  55.53781385]\n",
      " [56.42636245 55.98032502 55.53781385 ... 55.09891391 55.53781385\n",
      "  55.98032502]]\n"
     ]
    }
   ],
   "source": [
    "import numpy as np\n",
    "\n",
    "# Domain size and grid resolution\n",
    "Lx, Ly = 10.0, 10.0  # Physical domain size in x and y\n",
    "Nx, Ny = 128, 128    # Number of grid points in x and y\n",
    "\n",
    "# Compute wavevectors\n",
    "kx = 2 * np.pi * np.fft.fftshift(np.fft.fftfreq(Nx, d=Lx / Nx))\n",
    "ky = 2 * np.pi * np.fft.fftshift(np.fft.fftfreq(Ny, d=Ly / Ny))\n",
    "\n",
    "# Create 2D wavevector grid\n",
    "kx_grid, ky_grid = np.meshgrid(kx, ky, indexing='ij')\n",
    "\n",
    "# Compute wavenumber magnitude\n",
    "k = np.sqrt(kx_grid**2 + ky_grid**2)\n",
    "\n",
    "# Print example results\n",
    "print(k)"
   ]
  },
  {
   "cell_type": "code",
   "execution_count": 154,
   "metadata": {},
   "outputs": [
    {
     "data": {
      "text/plain": [
       "array([[2.55430635, 2.14159265, 1.80992589, 1.59062367, 1.51327412,\n",
       "        1.59062367, 1.80992589, 2.14159265, 2.55430635, 3.02320161],\n",
       "       [2.14159265, 1.66572976, 1.26543468, 0.98691765, 0.88495559,\n",
       "        0.98691765, 1.26543468, 1.66572976, 2.14159265, 2.66369513],\n",
       "       [1.80992589, 1.26543468, 0.77715318, 0.40496295, 0.25663706,\n",
       "        0.40496295, 0.77715318, 1.26543468, 1.80992589, 2.38359884],\n",
       "       [1.59062367, 0.98691765, 0.40496295, 0.11142341, 0.37168147,\n",
       "        0.11142341, 0.40496295, 0.98691765, 1.59062367, 2.20380845],\n",
       "       [1.51327412, 0.88495559, 0.25663706, 0.37168147, 1.        ,\n",
       "        0.37168147, 0.25663706, 0.88495559, 1.51327412, 2.14159265],\n",
       "       [1.59062367, 0.98691765, 0.40496295, 0.11142341, 0.37168147,\n",
       "        0.11142341, 0.40496295, 0.98691765, 1.59062367, 2.20380845],\n",
       "       [1.80992589, 1.26543468, 0.77715318, 0.40496295, 0.25663706,\n",
       "        0.40496295, 0.77715318, 1.26543468, 1.80992589, 2.38359884],\n",
       "       [2.14159265, 1.66572976, 1.26543468, 0.98691765, 0.88495559,\n",
       "        0.98691765, 1.26543468, 1.66572976, 2.14159265, 2.66369513],\n",
       "       [2.55430635, 2.14159265, 1.80992589, 1.59062367, 1.51327412,\n",
       "        1.59062367, 1.80992589, 2.14159265, 2.55430635, 3.02320161],\n",
       "       [3.02320161, 2.66369513, 2.38359884, 2.20380845, 2.14159265,\n",
       "        2.20380845, 2.38359884, 2.66369513, 3.02320161, 3.44288294]])"
      ]
     },
     "execution_count": 154,
     "metadata": {},
     "output_type": "execute_result"
    }
   ],
   "source": [
    "np.abs(k-1)[60:70,60:70]\n",
    "#np.abs(k - k_target)[62:66,62:66]"
   ]
  },
  {
   "cell_type": "code",
   "execution_count": 157,
   "metadata": {},
   "outputs": [
    {
     "name": "stdout",
     "output_type": "stream",
     "text": [
      "Indices where k ≈ 2:\n",
      "[[53 60]\n",
      " [53 61]\n",
      " [53 62]\n",
      " [53 63]\n",
      " [53 64]\n",
      " [53 65]\n",
      " [53 66]\n",
      " [53 67]\n",
      " [53 68]\n",
      " [54 58]\n",
      " [54 59]\n",
      " [54 60]\n",
      " [54 61]\n",
      " [54 67]\n",
      " [54 68]\n",
      " [54 69]\n",
      " [54 70]\n",
      " [55 57]\n",
      " [55 58]\n",
      " [55 70]\n",
      " [55 71]\n",
      " [56 56]\n",
      " [56 57]\n",
      " [56 71]\n",
      " [56 72]\n",
      " [57 55]\n",
      " [57 56]\n",
      " [57 72]\n",
      " [57 73]\n",
      " [58 54]\n",
      " [58 55]\n",
      " [58 73]\n",
      " [58 74]\n",
      " [59 54]\n",
      " [59 74]\n",
      " [60 53]\n",
      " [60 54]\n",
      " [60 74]\n",
      " [60 75]\n",
      " [61 53]\n",
      " [61 54]\n",
      " [61 74]\n",
      " [61 75]\n",
      " [62 53]\n",
      " [62 75]\n",
      " [63 53]\n",
      " [63 75]\n",
      " [64 53]\n",
      " [64 75]\n",
      " [65 53]\n",
      " [65 75]\n",
      " [66 53]\n",
      " [66 75]\n",
      " [67 53]\n",
      " [67 54]\n",
      " [67 74]\n",
      " [67 75]\n",
      " [68 53]\n",
      " [68 54]\n",
      " [68 74]\n",
      " [68 75]\n",
      " [69 54]\n",
      " [69 74]\n",
      " [70 54]\n",
      " [70 55]\n",
      " [70 73]\n",
      " [70 74]\n",
      " [71 55]\n",
      " [71 56]\n",
      " [71 72]\n",
      " [71 73]\n",
      " [72 56]\n",
      " [72 57]\n",
      " [72 71]\n",
      " [72 72]\n",
      " [73 57]\n",
      " [73 58]\n",
      " [73 70]\n",
      " [73 71]\n",
      " [74 58]\n",
      " [74 59]\n",
      " [74 60]\n",
      " [74 61]\n",
      " [74 67]\n",
      " [74 68]\n",
      " [74 69]\n",
      " [74 70]\n",
      " [75 60]\n",
      " [75 61]\n",
      " [75 62]\n",
      " [75 63]\n",
      " [75 64]\n",
      " [75 65]\n",
      " [75 66]\n",
      " [75 67]\n",
      " [75 68]]\n"
     ]
    }
   ],
   "source": [
    "# Find indices where k is approximately 2\n",
    "k_target = 7.0\n",
    "tolerance = 0.5 # Adjust tolerance if needed\n",
    "indices = np.argwhere(np.abs(k - k_target) < tolerance)\n",
    "\n",
    "# Print the indices\n",
    "print(\"Indices where k ≈ 2:\")\n",
    "print(indices)\n"
   ]
  },
  {
   "cell_type": "code",
   "execution_count": 124,
   "metadata": {},
   "outputs": [
    {
     "name": "stdout",
     "output_type": "stream",
     "text": [
      "Original Image Max: 0.9999810273487268\n",
      "Filtered Image Max: 0.5011606687042708\n"
     ]
    }
   ],
   "source": [
    "# Generate a synthetic image with a single sinusoidal component at k=2\n",
    "rows, cols = 256, 256\n",
    "x = np.linspace(0, 2 * np.pi, cols)\n",
    "y = np.linspace(0, 2 * np.pi, rows)\n",
    "X, Y = np.meshgrid(x, y)\n",
    "\n",
    "# Create a sinusoidal image\n",
    "synthetic_image = np.sin(2 * X)  # Wavenumber k=2 in the x-direction\n",
    "\n",
    "# Remove the wavenumber k=2 signal\n",
    "filtered_image = remove_wavenumber_signal(synthetic_image, target_k=2, tolerance=0.1)\n",
    "\n",
    "# Validate: The filtered image should have reduced or no signal at k=2\n",
    "print(\"Original Image Max:\", np.max(synthetic_image))\n",
    "print(\"Filtered Image Max:\", np.max(filtered_image))"
   ]
  },
  {
   "cell_type": "code",
   "execution_count": 125,
   "metadata": {},
   "outputs": [
    {
     "data": {
      "image/png": "[encoded data removed]",
      "text/plain": [
       "<Figure size 720x360 with 4 Axes>"
      ]
     },
     "metadata": {
      "needs_background": "light"
     },
     "output_type": "display_data"
    }
   ],
   "source": [
    "import matplotlib.pyplot as plt\n",
    "\n",
    "def plot_results(original, filtered, title=\"\"):\n",
    "    plt.figure(figsize=(10, 5))\n",
    "    plt.subplot(1, 2, 1)\n",
    "    plt.title(\"Original \" + title)\n",
    "    plt.imshow(original, cmap=\"gray\")\n",
    "    plt.colorbar()\n",
    "\n",
    "    plt.subplot(1, 2, 2)\n",
    "    plt.title(\"Filtered \" + title)\n",
    "    plt.imshow(filtered, cmap=\"gray\")\n",
    "    plt.colorbar()\n",
    "\n",
    "    plt.tight_layout()\n",
    "    plt.show()\n",
    "\n",
    "# Example usage for synthetic image\n",
    "plot_results(synthetic_image, filtered_image, title=\"Synthetic Image\")\n"
   ]
  },
  {
   "cell_type": "code",
   "execution_count": null,
   "metadata": {},
   "outputs": [],
   "source": []
  }
 ],
 "metadata": {
  "kernelspec": {
   "display_name": "Python 3 (ipykernel)",
   "language": "python",
   "name": "python3"
  },
  "language_info": {
   "codemirror_mode": {
    "name": "ipython",
    "version": 3
   },
   "file_extension": ".py",
   "mimetype": "text/x-python",
   "name": "python",
   "nbconvert_exporter": "python",
   "pygments_lexer": "ipython3",
   "version": "3.9.16"
  }
 },
 "nbformat": 4,
 "nbformat_minor": 4
}
